{
 "cells": [
  {
   "cell_type": "code",
   "execution_count": 1,
   "id": "f3583ca2",
   "metadata": {},
   "outputs": [],
   "source": [
    "import requests\n",
    "from bs4 import BeautifulSoup\n",
    "import pandas as pd\n",
    "import datetime"
   ]
  },
  {
   "cell_type": "code",
   "execution_count": 5,
   "id": "aca7fd2e",
   "metadata": {},
   "outputs": [
    {
     "name": "stdout",
     "output_type": "stream",
     "text": [
      "✅ Data saved to 1mg_products.csv\n",
      "                                                Name              Pack Size  \\\n",
      "0  Protinex Diabetes Care Protein Powder with Vit...   box of 400 gm Powder   \n",
      "1  Accu-Chek Active Blood Glucometer Kit (Box of ...        packet of 1 Kit   \n",
      "2  Dabur Jamun Neem Karela Ayurvedic Juice | For ...  bottle of 1 Ltr Juice   \n",
      "3  Protinex Diabetes Care - with Protein and High...  combo pack of 2 Packs   \n",
      "4  Accu-Chek Instant Glucometer Combo Pack with F...          box of 1 Unit   \n",
      "\n",
      "  Rating       Reviews    MRP Discount Price                   Discount %  \\\n",
      "0    4.3   612 ratings   ₹760            646  Discount Percentage:15% off   \n",
      "1      4  1744 ratings  ₹1199            983  Discount Percentage:18% off   \n",
      "2    4.4  1601 ratings   ₹355            305  Discount Percentage:14% off   \n",
      "3    4.7    14 ratings  ₹1790           1342  Discount Percentage:25% off   \n",
      "4      4   500 ratings  ₹1549           1317  Discount Percentage:15% off   \n",
      "\n",
      "                  Scraped At  \n",
      "0 2025-09-15 22:10:12.067391  \n",
      "1 2025-09-15 22:10:12.068378  \n",
      "2 2025-09-15 22:10:12.068968  \n",
      "3 2025-09-15 22:10:12.070086  \n",
      "4 2025-09-15 22:10:12.071983  \n"
     ]
    }
   ],
   "source": [
    "def scrape_1mg_products(url):\n",
    "    headers = {\n",
    "        \"User-Agent\": \"Mozilla/5.0 (Windows NT 10.0; Win64; x64)\"\n",
    "    }\n",
    "    response = requests.get(url, headers=headers)\n",
    "    soup = BeautifulSoup(response.text, \"html.parser\")\n",
    "\n",
    "    products = []\n",
    "\n",
    "    for item in soup.select(\".style__container___1TL2R\"):\n",
    "        try:\n",
    "            name = item.select_one(\".style__pro-title___2QwJy\").get_text(strip=True)\n",
    "        except:\n",
    "            name = None\n",
    "\n",
    "        try:\n",
    "            pack_size = item.select_one(\".style__pack-size___2JQG7\").get_text(strip=True)\n",
    "        except:\n",
    "            pack_size = None\n",
    "\n",
    "        try:\n",
    "            rating = item.select_one(\".CardRatingDetail__weight-700___27w9q\").get_text(strip=True)\n",
    "            reviews = item.select_one(\".CardRatingDetail__ratings-header___2yyQW\").get_text(strip=True)\n",
    "        except:\n",
    "            rating, reviews = None, None\n",
    "\n",
    "        try:\n",
    "            mrp = item.select_one(\".style__discount-price___25Bya\").get_text(strip=True)\n",
    "        except:\n",
    "            mrp = None\n",
    "\n",
    "        try:\n",
    "            discount_price = item.select_one(\".style__price-tag___cOxYc span:last-child\").get_text(strip=True)\n",
    "        except:\n",
    "            discount_price = None\n",
    "\n",
    "        try:\n",
    "            discount = item.select_one(\".style__off-badge___2JaF-\").get_text(strip=True)\n",
    "        except:\n",
    "            discount = None\n",
    "\n",
    "        products.append({\n",
    "            \"Name\": name,\n",
    "            \"Pack Size\": pack_size,\n",
    "            \"Rating\": rating,\n",
    "            \"Reviews\": reviews,\n",
    "            \"MRP\": mrp,\n",
    "            \"Discount Price\": discount_price,\n",
    "            \"Discount %\": discount,\n",
    "            \"Scraped At\": datetime.datetime.now()\n",
    "        })\n",
    "\n",
    "    df = pd.DataFrame(products)\n",
    "    df.to_csv(\"1mg_products.csv\", index=False, encoding=\"utf-8-sig\")\n",
    "    print(\"✅ Data saved to 1mg_products.csv\")\n",
    "    return df\n",
    "\n",
    "if __name__ == \"__main__\":\n",
    "    url = \"https://www.1mg.com/categories/diabetes-1\"   # Example category page\n",
    "    df = scrape_1mg_products(url)\n",
    "    print(df.head())"
   ]
  },
  {
   "cell_type": "code",
   "execution_count": null,
   "id": "e932b16d",
   "metadata": {},
   "outputs": [],
   "source": []
  }
 ],
 "metadata": {
  "kernelspec": {
   "display_name": "Python 3",
   "language": "python",
   "name": "python3"
  },
  "language_info": {
   "codemirror_mode": {
    "name": "ipython",
    "version": 3
   },
   "file_extension": ".py",
   "mimetype": "text/x-python",
   "name": "python",
   "nbconvert_exporter": "python",
   "pygments_lexer": "ipython3",
   "version": "3.12.2"
  }
 },
 "nbformat": 4,
 "nbformat_minor": 5
}
