{
 "cells": [
  {
   "cell_type": "code",
   "execution_count": 1,
   "id": "12957d5a",
   "metadata": {},
   "outputs": [],
   "source": [
    "import requests\n",
    "import pandas as pd\n",
    "import datetime"
   ]
  },
  {
   "cell_type": "code",
   "execution_count": 7,
   "id": "59a6a79b",
   "metadata": {},
   "outputs": [
    {
     "name": "stdout",
     "output_type": "stream",
     "text": [
      "✅ Data loaded to train_status.csv\n",
      "   TrainNumber DepartureDate StationCode  EventType             ScheduledTime  \\\n",
      "0           67    2025-09-15         HKI  DEPARTURE  2025-09-15T11:19:00.000Z   \n",
      "1           67    2025-09-15         PSL    ARRIVAL  2025-09-15T11:24:00.000Z   \n",
      "2           67    2025-09-15         PSL  DEPARTURE  2025-09-15T11:25:00.000Z   \n",
      "3           67    2025-09-15         KÄP    ARRIVAL  2025-09-15T11:27:00.000Z   \n",
      "4           67    2025-09-15         KÄP  DEPARTURE  2025-09-15T11:27:00.000Z   \n",
      "\n",
      "                 ActualTime  DelayMinutes  \n",
      "0  2025-09-15T11:19:46.000Z             1  \n",
      "1  2025-09-15T11:24:07.000Z             0  \n",
      "2  2025-09-15T11:25:33.000Z             1  \n",
      "3  2025-09-15T11:27:31.000Z             1  \n",
      "4  2025-09-15T11:27:31.000Z             1  \n"
     ]
    }
   ],
   "source": [
    "def extract_train_status(train_no=\"12046\"):\n",
    "    # Example free railway status API (dummy endpoint for demo)\n",
    "    url = f\"https://rata.digitraffic.fi/api/v1/trains\"\n",
    "    response = requests.get(url)\n",
    "    \n",
    "    if response.status_code != 200:\n",
    "        print(\"❌ Failed to fetch train data\")\n",
    "        return None\n",
    "    \n",
    "    data = response.json()\n",
    "    return data\n",
    "\n",
    "def transform_train_data(trains):\n",
    "    records = []\n",
    "    for train in trains:\n",
    "        train_number = train.get(\"trainNumber\")\n",
    "        departure_date = train.get(\"departureDate\")\n",
    "\n",
    "        for row in train.get(\"timeTableRows\", []):\n",
    "            records.append({\n",
    "                \"TrainNumber\": train_number,\n",
    "                \"DepartureDate\": departure_date,\n",
    "                \"StationCode\": row.get(\"stationShortCode\"),\n",
    "                \"EventType\": row.get(\"type\"),  # ARRIVAL / DEPARTURE\n",
    "                \"ScheduledTime\": row.get(\"scheduledTime\"),\n",
    "                \"ActualTime\": row.get(\"actualTime\", None),\n",
    "                \"DelayMinutes\": row.get(\"differenceInMinutes\"),\n",
    "            })\n",
    "    return pd.DataFrame(records)\n",
    "\n",
    "def load_to_csv(df, filename=\"train_status.csv\"):\n",
    "    df.to_csv(filename, mode=\"a\", header=not pd.io.common.file_exists(filename), index=False)\n",
    "    print(f\"✅ Data loaded to {filename}\")\n",
    "\n",
    "if __name__ == \"__main__\":\n",
    "    raw = extract_train_status()\n",
    "    if raw:\n",
    "        df = transform_train_data(raw)\n",
    "        load_to_csv(df)\n",
    "        print(df.head())\n"
   ]
  },
  {
   "cell_type": "code",
   "execution_count": null,
   "id": "ef3b851c",
   "metadata": {},
   "outputs": [],
   "source": []
  }
 ],
 "metadata": {
  "kernelspec": {
   "display_name": "Python 3",
   "language": "python",
   "name": "python3"
  },
  "language_info": {
   "codemirror_mode": {
    "name": "ipython",
    "version": 3
   },
   "file_extension": ".py",
   "mimetype": "text/x-python",
   "name": "python",
   "nbconvert_exporter": "python",
   "pygments_lexer": "ipython3",
   "version": "3.12.2"
  }
 },
 "nbformat": 4,
 "nbformat_minor": 5
}
