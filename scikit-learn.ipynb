{
 "cells": [
  {
   "cell_type": "markdown",
   "id": "ba60862e",
   "metadata": {},
   "source": [
    "steps to create a model using sklearn\n",
    "1. get the dataset\n",
    "2. split the dataset to features(data) and target\n",
    "3. train and test split the data using train_test_split class\n",
    "4. choose an algorithm or multiple algorithms based on the problem statement.\n",
    "    here in the first stage i have chosen LinearRegression\n",
    "5. create an insteance of it and train the model using fit()\n",
    "6.  evaluate the model using predict()\n",
    "7. get the score of the model using r2_score"
   ]
  },
  {
   "cell_type": "code",
   "execution_count": null,
   "id": "b3d40e51",
   "metadata": {},
   "outputs": [],
   "source": [
    "from sklearn import datasets\n",
    "from sklearn.model_selection import train_test_split\n",
    "from sklearn.linear_model import LinearRegression\n",
    "from sklearn.metrics import r2_score\n",
    "\n",
    "housing = datasets.fetch_california_housing()\n",
    "\n",
    "x = housing.data\n",
    "y = housing.target\n",
    "\n",
    "x_train,x_test,y_train,y_test = train_test_split(x,y,test_size=0.20,random_state=456)\n",
    "\n",
    "LR = LinearRegression()\n",
    "LR.fit(x_train,y_train)\n",
    "\n",
    "y_pred = LR.predict(x_test)\n",
    "\n",
    "r2 = r2_score(y_test, y_pred)\n",
    "\n",
    "print('r2',r2)\n"
   ]
  },
  {
   "cell_type": "markdown",
   "id": "9c17bcb0",
   "metadata": {},
   "source": [
    "now the second stage of development we got 60% r2 score steps to optimize the score\n",
    "1. one of the methon to optimize the model is using Polynomial Features expaning the no. of features for our model"
   ]
  },
  {
   "cell_type": "code",
   "execution_count": 12,
   "id": "a1172fa5",
   "metadata": {},
   "outputs": [
    {
     "name": "stdout",
     "output_type": "stream",
     "text": [
      "(20640, 8)\n",
      "(20640, 45)\n",
      "r2 0.6541630009746205\n"
     ]
    }
   ],
   "source": [
    "from sklearn import datasets\n",
    "from sklearn.model_selection import train_test_split\n",
    "from sklearn.linear_model import LinearRegression\n",
    "from sklearn.metrics import r2_score\n",
    "from sklearn.preprocessing import PolynomialFeatures\n",
    "\n",
    "housing = datasets.fetch_california_housing()\n",
    "\n",
    "x = housing.data\n",
    "y = housing.target\n",
    "print(x.shape)\n",
    "\n",
    "poly = PolynomialFeatures()\n",
    "x = poly.fit_transform(x)\n",
    "\n",
    "print(x.shape)\n",
    "\n",
    "x_train,x_test,y_train,y_test = train_test_split(x,y,test_size=0.20,random_state=456)\n",
    "\n",
    "LR = LinearRegression()\n",
    "LR.fit(x_train,y_train)\n",
    "\n",
    "y_pred = LR.predict(x_test)\n",
    "\n",
    "r2 = r2_score(y_test, y_pred)\n",
    "\n",
    "print('r2',r2)\n"
   ]
  },
  {
   "cell_type": "markdown",
   "id": "48f06886",
   "metadata": {},
   "source": [
    "1. after PolynomialFeatures the r2_score has been increased\n",
    "2. but we dont know wheather the algorithm we have choosen is correct? the best way to know is to try with diffrernt algorithm and check the r2_score for each of them"
   ]
  },
  {
   "cell_type": "code",
   "execution_count": 21,
   "id": "9d0f17b0",
   "metadata": {},
   "outputs": [
    {
     "name": "stdout",
     "output_type": "stream",
     "text": [
      "(20640, 8)\n",
      "(20640, 45)\n",
      "LinearRegression() 0.6541630009746205\n",
      "HistGradientBoostingRegressor() 0.8450594887665172\n",
      "RandomForestRegressor(n_jobs=-1) 0.8173506840557321\n"
     ]
    }
   ],
   "source": [
    "from sklearn import datasets\n",
    "from sklearn.model_selection import train_test_split\n",
    "from sklearn.linear_model import LinearRegression\n",
    "from sklearn.metrics import r2_score\n",
    "from sklearn.preprocessing import PolynomialFeatures\n",
    "from sklearn.ensemble import (RandomForestRegressor , HistGradientBoostingRegressor )\n",
    "\n",
    "housing = datasets.fetch_california_housing()\n",
    "\n",
    "x = housing.data\n",
    "y = housing.target\n",
    "print(x.shape)\n",
    "\n",
    "poly = PolynomialFeatures()\n",
    "x = poly.fit_transform(x)\n",
    "\n",
    "print(x.shape)\n",
    "\n",
    "x_train,x_test,y_train,y_test = train_test_split(x,y,test_size=0.20,random_state=456)\n",
    "\n",
    "LR = LinearRegression()\n",
    "HGB = HistGradientBoostingRegressor()\n",
    "RFC = RandomForestRegressor(n_jobs=-1)\n",
    "\n",
    "for model in [LR,HGB,RFC]:\n",
    "  model.fit(x_train,y_train)\n",
    "  y_pred = model.predict(x_test)\n",
    "  r2 = r2_score(y_test, y_pred)\n",
    "  print(model,r2)\n"
   ]
  },
  {
   "cell_type": "markdown",
   "id": "1ebe6b20",
   "metadata": {},
   "source": [
    "1. from the above experiment we got to know that HistGradientBoostingRegressor model are produces a better R2 score \n",
    "2. so the best model for our data is  HistGradientBoostingRegressor so choose that\n",
    "3. we can optimize this further using Hyperparameters"
   ]
  },
  {
   "cell_type": "code",
   "execution_count": 23,
   "id": "ca21d79f",
   "metadata": {},
   "outputs": [
    {
     "name": "stdout",
     "output_type": "stream",
     "text": [
      "(20640, 8)\n",
      "(20640, 45)\n",
      "NUMBER OF TREES: 100\n",
      "LEARNING RATE 0.1\n",
      "R2 SCORE: 0.8475818066000932\n",
      "-------------\n",
      "NUMBER OF TREES: 200\n",
      "LEARNING RATE 0.1\n",
      "R2 SCORE: 0.8517961318544394\n",
      "-------------\n",
      "NUMBER OF TREES: 300\n",
      "LEARNING RATE 0.1\n",
      "R2 SCORE: 0.8541217644972916\n",
      "-------------\n",
      "NUMBER OF TREES: 400\n",
      "LEARNING RATE 0.1\n",
      "R2 SCORE: 0.8563061802062409\n",
      "-------------\n",
      "NUMBER OF TREES: 500\n",
      "LEARNING RATE 0.1\n",
      "R2 SCORE: 0.8546555425280261\n",
      "-------------\n",
      "NUMBER OF TREES: 100\n",
      "LEARNING RATE 0.05\n",
      "R2 SCORE: 0.833887487118536\n",
      "-------------\n",
      "NUMBER OF TREES: 200\n",
      "LEARNING RATE 0.05\n",
      "R2 SCORE: 0.8454051242532314\n",
      "-------------\n",
      "NUMBER OF TREES: 300\n",
      "LEARNING RATE 0.05\n",
      "R2 SCORE: 0.8517398154345279\n",
      "-------------\n",
      "NUMBER OF TREES: 400\n",
      "LEARNING RATE 0.05\n",
      "R2 SCORE: 0.8513485479257914\n",
      "-------------\n",
      "NUMBER OF TREES: 500\n",
      "LEARNING RATE 0.05\n",
      "R2 SCORE: 0.8560085075589842\n",
      "-------------\n",
      "NUMBER OF TREES: 100\n",
      "LEARNING RATE 0.001\n",
      "R2 SCORE: 0.12081388399827919\n",
      "-------------\n",
      "NUMBER OF TREES: 200\n",
      "LEARNING RATE 0.001\n",
      "R2 SCORE: 0.22177254272511593\n",
      "-------------\n",
      "NUMBER OF TREES: 300\n",
      "LEARNING RATE 0.001\n",
      "R2 SCORE: 0.3067378799898377\n",
      "-------------\n",
      "NUMBER OF TREES: 400\n",
      "LEARNING RATE 0.001\n",
      "R2 SCORE: 0.37698384651844896\n",
      "-------------\n",
      "NUMBER OF TREES: 500\n",
      "LEARNING RATE 0.001\n",
      "R2 SCORE: 0.4356099571090146\n",
      "-------------\n"
     ]
    }
   ],
   "source": [
    "from sklearn import datasets\n",
    "from sklearn.model_selection import train_test_split\n",
    "from sklearn.metrics import r2_score\n",
    "from sklearn.preprocessing import PolynomialFeatures\n",
    "from sklearn.ensemble import ( HistGradientBoostingRegressor )\n",
    "\n",
    "housing = datasets.fetch_california_housing()\n",
    "\n",
    "x = housing.data\n",
    "y = housing.target\n",
    "print(x.shape)\n",
    "\n",
    "poly = PolynomialFeatures()\n",
    "x = poly.fit_transform(x)\n",
    "\n",
    "print(x.shape)\n",
    "\n",
    "x_train,x_test,y_train,y_test = train_test_split(x,y,test_size=0.20,random_state=456)\n",
    "\n",
    "for j in [0.1,0.05,0.001]:\n",
    "  for i in [100,200,300,400,500]:\n",
    "    model = HistGradientBoostingRegressor(max_iter= i,learning_rate=j)\n",
    "    model.fit(x_train,y_train)\n",
    "    y_pred = model.predict(x_test)\n",
    "    r2 = r2_score(y_test, y_pred)\n",
    "    print(\"NUMBER OF TREES:\", i)\n",
    "    print(\"LEARNING RATE\",j)\n",
    "    print(\"R2 SCORE:\", r2)\n",
    "    print(\"-------------\")\n"
   ]
  },
  {
   "cell_type": "markdown",
   "id": "77894a79",
   "metadata": {},
   "source": [
    "1. from the above we got to know that no. of tree = 300 and learing rate = 0.1 is giving us the best model\n",
    "2. so use only these parameters for the model and save the model using joblib"
   ]
  },
  {
   "cell_type": "code",
   "execution_count": 24,
   "id": "6da3bb9e",
   "metadata": {},
   "outputs": [
    {
     "name": "stdout",
     "output_type": "stream",
     "text": [
      "(20640, 8)\n",
      "(20640, 45)\n",
      "R2 SCORE: 0.8471389415234265\n"
     ]
    }
   ],
   "source": [
    "from sklearn import datasets\n",
    "from sklearn.model_selection import train_test_split\n",
    "from sklearn.metrics import r2_score\n",
    "from sklearn.preprocessing import PolynomialFeatures\n",
    "from sklearn.ensemble import ( HistGradientBoostingRegressor )\n",
    "import joblib\n",
    "\n",
    "housing = datasets.fetch_california_housing()\n",
    "\n",
    "x = housing.data\n",
    "y = housing.target\n",
    "print(x.shape)\n",
    "\n",
    "poly = PolynomialFeatures()\n",
    "x = poly.fit_transform(x)\n",
    "\n",
    "print(x.shape)\n",
    "\n",
    "x_train,x_test,y_train,y_test = train_test_split(x,y,test_size=0.20,random_state=456)\n",
    "\n",
    "\n",
    "model = HistGradientBoostingRegressor(max_iter= 300,learning_rate=0.1)\n",
    "model.fit(x_train,y_train)\n",
    "\n",
    "joblib.dump(model,'my_model.joblib')\n",
    "y_pred = model.predict(x_test)\n",
    "r2 = r2_score(y_test, y_pred)\n",
    "print(\"R2 SCORE:\", r2)\n"
   ]
  },
  {
   "cell_type": "code",
   "execution_count": null,
   "id": "2f8b35d7",
   "metadata": {},
   "outputs": [],
   "source": []
  }
 ],
 "metadata": {
  "kernelspec": {
   "display_name": "Python 3",
   "language": "python",
   "name": "python3"
  },
  "language_info": {
   "codemirror_mode": {
    "name": "ipython",
    "version": 3
   },
   "file_extension": ".py",
   "mimetype": "text/x-python",
   "name": "python",
   "nbconvert_exporter": "python",
   "pygments_lexer": "ipython3",
   "version": "3.12.2"
  }
 },
 "nbformat": 4,
 "nbformat_minor": 5
}
