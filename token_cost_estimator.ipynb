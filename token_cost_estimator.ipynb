{
 "cells": [
  {
   "cell_type": "code",
   "execution_count": 1,
   "id": "dde0d845",
   "metadata": {},
   "outputs": [
    {
     "name": "stdout",
     "output_type": "stream",
     "text": [
      "Collecting tiktoken\n",
      "  Downloading tiktoken-0.9.0-cp312-cp312-win_amd64.whl.metadata (6.8 kB)\n",
      "Requirement already satisfied: regex>=2022.1.18 in c:\\users\\vsaij\\appdata\\local\\programs\\python\\python312\\lib\\site-packages (from tiktoken) (2024.11.6)\n",
      "Requirement already satisfied: requests>=2.26.0 in c:\\users\\vsaij\\appdata\\local\\programs\\python\\python312\\lib\\site-packages (from tiktoken) (2.31.0)\n",
      "Requirement already satisfied: charset-normalizer<4,>=2 in c:\\users\\vsaij\\appdata\\local\\programs\\python\\python312\\lib\\site-packages (from requests>=2.26.0->tiktoken) (3.3.2)\n",
      "Requirement already satisfied: idna<4,>=2.5 in c:\\users\\vsaij\\appdata\\local\\programs\\python\\python312\\lib\\site-packages (from requests>=2.26.0->tiktoken) (2.10)\n",
      "Requirement already satisfied: urllib3<3,>=1.21.1 in c:\\users\\vsaij\\appdata\\local\\programs\\python\\python312\\lib\\site-packages (from requests>=2.26.0->tiktoken) (2.2.1)\n",
      "Requirement already satisfied: certifi>=2017.4.17 in c:\\users\\vsaij\\appdata\\local\\programs\\python\\python312\\lib\\site-packages (from requests>=2.26.0->tiktoken) (2024.2.2)\n",
      "Downloading tiktoken-0.9.0-cp312-cp312-win_amd64.whl (894 kB)\n",
      "   ---------------------------------------- 0.0/894.9 kB ? eta -:--:--\n",
      "   ---------------------------------------- 10.2/894.9 kB ? eta -:--:--\n",
      "   - ------------------------------------- 30.7/894.9 kB 330.3 kB/s eta 0:00:03\n",
      "   -- ------------------------------------ 61.4/894.9 kB 544.7 kB/s eta 0:00:02\n",
      "   ---------- ----------------------------- 245.8/894.9 kB 1.5 MB/s eta 0:00:01\n",
      "   ------------ --------------------------- 286.7/894.9 kB 1.6 MB/s eta 0:00:01\n",
      "   ------------ --------------------------- 286.7/894.9 kB 1.6 MB/s eta 0:00:01\n",
      "   ----------------- ---------------------- 389.1/894.9 kB 1.4 MB/s eta 0:00:01\n",
      "   ------------------------------- -------- 696.3/894.9 kB 2.0 MB/s eta 0:00:01\n",
      "   ---------------------------------------  890.9/894.9 kB 2.3 MB/s eta 0:00:01\n",
      "   ---------------------------------------- 894.9/894.9 kB 2.3 MB/s eta 0:00:00\n",
      "Installing collected packages: tiktoken\n",
      "Successfully installed tiktoken-0.9.0\n"
     ]
    },
    {
     "name": "stderr",
     "output_type": "stream",
     "text": [
      "\n",
      "[notice] A new release of pip is available: 24.0 -> 25.1.1\n",
      "[notice] To update, run: python.exe -m pip install --upgrade pip\n"
     ]
    }
   ],
   "source": [
    "! pip install tiktoken"
   ]
  },
  {
   "cell_type": "code",
   "execution_count": 20,
   "id": "ef4d6d33",
   "metadata": {},
   "outputs": [],
   "source": [
    "import tiktoken\n",
    "\n",
    "tokenCharge = 0.03\n",
    "rupeeValue = 85\n",
    "\n",
    "def tokencost(text):\n",
    "  encoding = tiktoken.encoding_for_model(\"gpt-4o-mini\")\n",
    "  tokens = encoding.encode(text)\n",
    "  tokenlength = len(tokens)\n",
    "  print('token length', tokenlength)\n",
    "  tokencostdoller  = (tokenlength/1000) * tokenCharge\n",
    "  print('token cost doller',tokencostdoller)\n",
    "  tokenrupee = tokencostdoller * rupeeValue\n",
    "  print('token cost in Rupees', tokenrupee)"
   ]
  },
  {
   "cell_type": "code",
   "execution_count": 21,
   "id": "d66c72b2",
   "metadata": {},
   "outputs": [
    {
     "name": "stdout",
     "output_type": "stream",
     "text": [
      "token length 5\n",
      "token cost doller 0.00015\n",
      "token cost in Rupees 0.01275\n"
     ]
    }
   ],
   "source": [
    "tokencost('hi this is jayesh')"
   ]
  },
  {
   "cell_type": "code",
   "execution_count": null,
   "id": "33d8123b",
   "metadata": {},
   "outputs": [],
   "source": []
  }
 ],
 "metadata": {
  "kernelspec": {
   "display_name": "Python 3",
   "language": "python",
   "name": "python3"
  },
  "language_info": {
   "codemirror_mode": {
    "name": "ipython",
    "version": 3
   },
   "file_extension": ".py",
   "mimetype": "text/x-python",
   "name": "python",
   "nbconvert_exporter": "python",
   "pygments_lexer": "ipython3",
   "version": "3.12.2"
  }
 },
 "nbformat": 4,
 "nbformat_minor": 5
}
